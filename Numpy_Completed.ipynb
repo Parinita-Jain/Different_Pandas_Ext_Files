{
  "cells": [
    {
      "cell_type": "code",
      "execution_count": null,
      "id": "29758c66",
      "metadata": {
        "id": "29758c66"
      },
      "outputs": [],
      "source": [
        "#!pip install numpy"
      ]
    },
    {
      "cell_type": "code",
      "execution_count": null,
      "id": "b27b527c",
      "metadata": {
        "id": "b27b527c"
      },
      "outputs": [],
      "source": [
        "#! pip install pandas"
      ]
    },
    {
      "cell_type": "code",
      "execution_count": null,
      "id": "a790882f",
      "metadata": {
        "id": "a790882f"
      },
      "outputs": [],
      "source": [
        "import numpy as np"
      ]
    },
    {
      "cell_type": "code",
      "execution_count": null,
      "id": "1b80e81e",
      "metadata": {
        "id": "1b80e81e",
        "outputId": "d26195e8-58d9-46cb-c0bf-9d2feea7e93a"
      },
      "outputs": [
        {
          "name": "stdout",
          "output_type": "stream",
          "text": [
            "[1, 2, 3, 4, 1, 2, 3, 4, 1, 2, 3, 4]\n",
            "<class 'list'>\n"
          ]
        }
      ],
      "source": [
        "l=[1,2,3,4]\n",
        "print(l*3)\n",
        "l=[1,'ABC',True]\n",
        "print(type(l))"
      ]
    },
    {
      "cell_type": "code",
      "execution_count": null,
      "id": "116f03bf",
      "metadata": {
        "id": "116f03bf",
        "outputId": "d6fef7ed-b7fe-498a-a492-c544182bec19"
      },
      "outputs": [
        {
          "name": "stdout",
          "output_type": "stream",
          "text": [
            "int32\n",
            "[1 2 3 4]\n",
            "[ 3  6  9 12]\n",
            "[1 2 3 4]\n",
            "[11 12 13 14]\n"
          ]
        }
      ],
      "source": [
        "b=np.array([1,2,3,4,5,6])\n",
        "a=np.array([1,2,3,4])\n",
        "print(a.dtype)\n",
        "print(a)\n",
        "print(a*3)\n",
        "print(a)\n",
        "print(a+10)"
      ]
    },
    {
      "cell_type": "code",
      "execution_count": null,
      "id": "485bf506",
      "metadata": {
        "id": "485bf506",
        "outputId": "4b8116a9-fe59-4ed0-c75e-7483699d65a5"
      },
      "outputs": [
        {
          "name": "stdout",
          "output_type": "stream",
          "text": [
            "[1, 'ABC', True]\n"
          ]
        },
        {
          "data": {
            "text/plain": [
              "array(['1', 'ABC', 'True'], dtype='<U11')"
            ]
          },
          "execution_count": 30,
          "metadata": {},
          "output_type": "execute_result"
        }
      ],
      "source": [
        "print(l)\n",
        "l=np.array(l)\n",
        "l"
      ]
    },
    {
      "cell_type": "code",
      "execution_count": null,
      "id": "f63be8bb",
      "metadata": {
        "id": "f63be8bb"
      },
      "outputs": [],
      "source": [
        "#l*3"
      ]
    },
    {
      "cell_type": "code",
      "execution_count": null,
      "id": "e05d1342",
      "metadata": {
        "id": "e05d1342",
        "outputId": "4bd3c9a7-2fed-4734-8c5e-87827f6c334f"
      },
      "outputs": [
        {
          "name": "stdout",
          "output_type": "stream",
          "text": [
            "[1 2 3 4 5 6 7]\n",
            "(7,)\n",
            "1\n"
          ]
        }
      ],
      "source": [
        "a=np.array([1,2,3,4,5,6,7])\n",
        "print(a)\n",
        "print(a.shape)\n",
        "print(a.ndim)"
      ]
    },
    {
      "cell_type": "code",
      "execution_count": null,
      "id": "96bd64d6",
      "metadata": {
        "id": "96bd64d6",
        "outputId": "8a16a4e7-555e-4102-bf1f-b2198f2e237a"
      },
      "outputs": [
        {
          "name": "stdout",
          "output_type": "stream",
          "text": [
            "[[1 2]\n",
            " [3 4]\n",
            " [5 6]]\n",
            "(3, 2)\n",
            "2\n"
          ]
        }
      ],
      "source": [
        "a_2=np.array([[1,2],[3,4],[5,6]])\n",
        "print(a_2)\n",
        "print(a_2.shape)\n",
        "print(a_2.ndim)"
      ]
    },
    {
      "cell_type": "code",
      "execution_count": null,
      "id": "b8754cc5",
      "metadata": {
        "id": "b8754cc5",
        "outputId": "b93a6769-34bf-43bc-a2b2-c5f448476050"
      },
      "outputs": [
        {
          "name": "stdout",
          "output_type": "stream",
          "text": [
            "[[0. 0. 0. 0.]\n",
            " [0. 0. 0. 0.]\n",
            " [0. 0. 0. 0.]]\n",
            "(3, 4)\n",
            "2\n"
          ]
        }
      ],
      "source": [
        "a_z=np.zeros((3,4))\n",
        "print(a_z)\n",
        "print(a_z.shape)\n",
        "print(a_z.ndim)"
      ]
    },
    {
      "cell_type": "code",
      "execution_count": null,
      "id": "80f84b4d",
      "metadata": {
        "id": "80f84b4d",
        "outputId": "8ee27a78-90f1-4362-cc8f-10f2aaeb4b3f"
      },
      "outputs": [
        {
          "name": "stdout",
          "output_type": "stream",
          "text": [
            "[[0.63793799 0.22752952 0.97392913 0.25836064]\n",
            " [0.00414726 0.1516091  0.74960093 0.57777637]\n",
            " [0.27352527 0.85947061 0.79893667 0.5446056 ]]\n",
            "(3, 4)\n",
            "2\n"
          ]
        }
      ],
      "source": [
        "a_n=np.random.random((3,4))\n",
        "print(a_n)\n",
        "print(a_n.shape)\n",
        "print(a_n.ndim)"
      ]
    },
    {
      "cell_type": "code",
      "execution_count": null,
      "id": "570edffc",
      "metadata": {
        "id": "570edffc",
        "outputId": "37bb3da3-5fa9-4a95-cddc-8ca27085030e"
      },
      "outputs": [
        {
          "name": "stdout",
          "output_type": "stream",
          "text": [
            "[  0.          11.11111111  22.22222222  33.33333333  44.44444444\n",
            "  55.55555556  66.66666667  77.77777778  88.88888889 100.        ]\n",
            "(10,)\n",
            "1\n"
          ]
        }
      ],
      "source": [
        "a_l=np.linspace(0,100,10)\n",
        "print(a_l)\n",
        "print(a_l.shape)\n",
        "print(a_l.ndim)"
      ]
    },
    {
      "cell_type": "code",
      "execution_count": null,
      "id": "2f883a87",
      "metadata": {
        "id": "2f883a87",
        "outputId": "085d62fc-3b94-4ba9-a7dc-4bb820c33747"
      },
      "outputs": [
        {
          "name": "stdout",
          "output_type": "stream",
          "text": [
            "(2, 3)\n",
            "6\n",
            "[[1 4]\n",
            " [2 5]\n",
            " [3 6]]\n"
          ]
        }
      ],
      "source": [
        "a=np.array([[1,2,3],[4,5,6]])\n",
        "print(a.shape)\n",
        "print(a.size)\n",
        "print(a.T)"
      ]
    },
    {
      "cell_type": "code",
      "execution_count": null,
      "id": "4454a08d",
      "metadata": {
        "id": "4454a08d",
        "outputId": "fe4cb2ef-6711-484a-9eb9-9dcd71d85e6c"
      },
      "outputs": [
        {
          "name": "stdout",
          "output_type": "stream",
          "text": [
            "[[1 2 3]\n",
            " [4 5 6]]\n",
            "(2, 3)\n",
            "\n",
            "\n",
            " [[1 2]\n",
            " [3 4]\n",
            " [5 6]]\n",
            "(3, 2)\n",
            "\n",
            "\n",
            " [[1]\n",
            " [2]\n",
            " [3]\n",
            " [4]\n",
            " [5]\n",
            " [6]]\n",
            "(6, 1)\n",
            "\n",
            "\n",
            " [[1 2 3 4 5 6]]\n",
            "(1, 6)\n"
          ]
        }
      ],
      "source": [
        "print(a)\n",
        "print(a.shape)\n",
        "b=a.reshape(3,2)\n",
        "print(\"\\n\\n\",b)\n",
        "print(b.shape)\n",
        "c=a.reshape(6,1)\n",
        "print(\"\\n\\n\",c)\n",
        "print(c.shape)\n",
        "d=a.reshape(1,6)\n",
        "print(\"\\n\\n\",d)\n",
        "print(d.shape)"
      ]
    },
    {
      "cell_type": "code",
      "execution_count": null,
      "id": "a27a0f8f",
      "metadata": {
        "id": "a27a0f8f",
        "outputId": "dab011d0-8c32-4879-d878-25ec595a5149"
      },
      "outputs": [
        {
          "name": "stdout",
          "output_type": "stream",
          "text": [
            "[[1 2 3]\n",
            " [4 5 6]]\n",
            "[[ 7  8  9]\n",
            " [10 11 12]]\n",
            "[[ 1  2  3]\n",
            " [ 4  5  6]\n",
            " [ 7  8  9]\n",
            " [10 11 12]]\n",
            "(4, 3)\n",
            "2\n",
            "[[ 1  2  3  7  8  9]\n",
            " [ 4  5  6 10 11 12]]\n",
            "(2, 6)\n",
            "2\n"
          ]
        }
      ],
      "source": [
        "a=np.array([1,2,3,4,5,6]).reshape(2,3)\n",
        "print(a)\n",
        "b=np.array([7,8,9,10,11,12]).reshape(2,3)\n",
        "print(b)\n",
        "c=np.concatenate((a,b),axis=0)\n",
        "print(c)\n",
        "print(c.shape)\n",
        "print(c.ndim)\n",
        "d=np.concatenate((a,b),axis=1)\n",
        "print(d)\n",
        "print(d.shape)\n",
        "print(d.ndim)"
      ]
    },
    {
      "cell_type": "code",
      "execution_count": null,
      "id": "e4df0efc",
      "metadata": {
        "id": "e4df0efc",
        "outputId": "31b4f266-79fe-414e-9b11-b2bba602c36d"
      },
      "outputs": [
        {
          "data": {
            "text/plain": [
              "array([[ 1,  2,  3,  7,  8,  9],\n",
              "       [ 4,  5,  6, 10, 11, 12]])"
            ]
          },
          "execution_count": 40,
          "metadata": {},
          "output_type": "execute_result"
        }
      ],
      "source": [
        "np.hstack((a,b))"
      ]
    },
    {
      "cell_type": "code",
      "execution_count": null,
      "id": "ee56a58f",
      "metadata": {
        "id": "ee56a58f",
        "outputId": "c7ca3c4d-fb6a-4981-9c17-0cade7ae38f9"
      },
      "outputs": [
        {
          "data": {
            "text/plain": [
              "array([[ 1,  2,  3],\n",
              "       [ 4,  5,  6],\n",
              "       [ 7,  8,  9],\n",
              "       [10, 11, 12]])"
            ]
          },
          "execution_count": 41,
          "metadata": {},
          "output_type": "execute_result"
        }
      ],
      "source": [
        "np.vstack((a,b))"
      ]
    },
    {
      "cell_type": "code",
      "execution_count": null,
      "id": "3c5ecf99",
      "metadata": {
        "id": "3c5ecf99",
        "outputId": "9f3051d8-1bee-476b-d8a9-bcb8910f129c"
      },
      "outputs": [
        {
          "name": "stdout",
          "output_type": "stream",
          "text": [
            "[[1. 2. 3.]\n",
            " [4. 5. 6.]]\n"
          ]
        }
      ],
      "source": [
        "f=np.array([[1,2,3],[4,5,6]],dtype='float')\n",
        "print(f)"
      ]
    },
    {
      "cell_type": "code",
      "execution_count": null,
      "id": "5eaf1e47",
      "metadata": {
        "id": "5eaf1e47",
        "outputId": "23003aa1-8e55-423c-f9bb-74c779aa5531"
      },
      "outputs": [
        {
          "data": {
            "text/plain": [
              "array([1, 2, 3])"
            ]
          },
          "execution_count": 43,
          "metadata": {},
          "output_type": "execute_result"
        }
      ],
      "source": [
        "t=np.array((1,2,3))\n",
        "t"
      ]
    },
    {
      "cell_type": "code",
      "execution_count": null,
      "id": "bf5504b2",
      "metadata": {
        "id": "bf5504b2"
      },
      "outputs": [],
      "source": [
        "t=np.append(t,[4,5,6,7,8])"
      ]
    },
    {
      "cell_type": "code",
      "execution_count": null,
      "id": "2ac380d1",
      "metadata": {
        "id": "2ac380d1",
        "outputId": "1140fcc4-0e63-4c22-cc02-399bfa38bd52"
      },
      "outputs": [
        {
          "data": {
            "text/plain": [
              "array([1, 2, 3, 4, 5, 6, 7, 8])"
            ]
          },
          "execution_count": 45,
          "metadata": {},
          "output_type": "execute_result"
        }
      ],
      "source": [
        "t"
      ]
    },
    {
      "cell_type": "code",
      "execution_count": null,
      "id": "1bd9d498",
      "metadata": {
        "id": "1bd9d498",
        "outputId": "aff5a896-02dd-432b-f0db-cb7767e7919a"
      },
      "outputs": [
        {
          "data": {
            "text/plain": [
              "array([ 1,  2, 10, 11, 12, 13,  3,  4,  5,  6,  7,  8])"
            ]
          },
          "execution_count": 46,
          "metadata": {},
          "output_type": "execute_result"
        }
      ],
      "source": [
        "t=np.insert(t,2,[10,11,12,13])\n",
        "t\n"
      ]
    },
    {
      "cell_type": "code",
      "execution_count": null,
      "id": "76668f17",
      "metadata": {
        "id": "76668f17",
        "outputId": "fdc091d5-9979-4142-dffa-29dfddf5b289"
      },
      "outputs": [
        {
          "data": {
            "text/plain": [
              "array([1, 2, 3, 4, 5, 6, 7, 8])"
            ]
          },
          "execution_count": 47,
          "metadata": {},
          "output_type": "execute_result"
        }
      ],
      "source": [
        "t=np.delete(t,[2,3,4,5])\n",
        "t"
      ]
    },
    {
      "cell_type": "code",
      "execution_count": null,
      "id": "30a06ed8",
      "metadata": {
        "id": "30a06ed8",
        "outputId": "dcb4a6ba-a7b8-4c86-a6dc-e3572fe36654"
      },
      "outputs": [
        {
          "data": {
            "text/plain": [
              "[1, 3, 5, 7, 9]"
            ]
          },
          "execution_count": 48,
          "metadata": {},
          "output_type": "execute_result"
        }
      ],
      "source": [
        "list(range(1,11,2))"
      ]
    },
    {
      "cell_type": "code",
      "execution_count": null,
      "id": "0c43236f",
      "metadata": {
        "id": "0c43236f",
        "outputId": "2907a412-2273-4bca-adf5-e969b7051f60"
      },
      "outputs": [
        {
          "data": {
            "text/plain": [
              "array([1, 3, 5, 7, 9])"
            ]
          },
          "execution_count": 49,
          "metadata": {},
          "output_type": "execute_result"
        }
      ],
      "source": [
        "a=np.arange(1,11,2)\n",
        "a"
      ]
    },
    {
      "cell_type": "code",
      "execution_count": null,
      "id": "11145f7b",
      "metadata": {
        "id": "11145f7b",
        "outputId": "9ce98b6e-cbe3-478a-e414-f783208ccc8a"
      },
      "outputs": [
        {
          "data": {
            "text/plain": [
              "9"
            ]
          },
          "execution_count": 50,
          "metadata": {},
          "output_type": "execute_result"
        }
      ],
      "source": [
        "a[-1]"
      ]
    },
    {
      "cell_type": "code",
      "execution_count": null,
      "id": "c1c565bd",
      "metadata": {
        "id": "c1c565bd",
        "outputId": "ae3dd6a4-395a-4bd8-dbcf-46462b36ec17"
      },
      "outputs": [
        {
          "data": {
            "text/plain": [
              "array([5, 7])"
            ]
          },
          "execution_count": 51,
          "metadata": {},
          "output_type": "execute_result"
        }
      ],
      "source": [
        "a[2:4]"
      ]
    },
    {
      "cell_type": "code",
      "execution_count": null,
      "id": "8e8b277c",
      "metadata": {
        "id": "8e8b277c",
        "outputId": "3c3b3195-1378-4145-8caa-4b9508895e08"
      },
      "outputs": [
        {
          "data": {
            "text/plain": [
              "array([[20, 21],\n",
              "       [22, 23],\n",
              "       [24, 25],\n",
              "       [26, 27],\n",
              "       [28, 29]])"
            ]
          },
          "execution_count": 52,
          "metadata": {},
          "output_type": "execute_result"
        }
      ],
      "source": [
        "a=np.arange(20,30).reshape(5,2)\n",
        "a"
      ]
    },
    {
      "cell_type": "code",
      "execution_count": null,
      "id": "68ba5354",
      "metadata": {
        "id": "68ba5354",
        "outputId": "3f0d0c00-a318-43a3-b864-a03f920f9604"
      },
      "outputs": [
        {
          "data": {
            "text/plain": [
              "25"
            ]
          },
          "execution_count": 53,
          "metadata": {},
          "output_type": "execute_result"
        }
      ],
      "source": [
        "a[2,1]"
      ]
    },
    {
      "cell_type": "code",
      "execution_count": null,
      "id": "d9de3169",
      "metadata": {
        "id": "d9de3169",
        "outputId": "8c1b137f-7bd1-4809-80fb-9f2e161bb5ae"
      },
      "outputs": [
        {
          "name": "stdout",
          "output_type": "stream",
          "text": [
            "(10,)\n",
            "[20 21 22 23 24 25 26 27 28 29]\n"
          ]
        }
      ],
      "source": [
        "f=a.flatten()\n",
        "print(f.shape)\n",
        "print(f)\n"
      ]
    },
    {
      "cell_type": "code",
      "execution_count": null,
      "id": "df120abb",
      "metadata": {
        "id": "df120abb",
        "outputId": "5bf259dd-4a7a-400b-cebc-2cb79a9bc862"
      },
      "outputs": [
        {
          "data": {
            "text/plain": [
              "array([[ 1,  2,  3,  4],\n",
              "       [ 5,  6,  7,  8],\n",
              "       [ 9, 10, 11, 12],\n",
              "       [13, 14, 15, 16]])"
            ]
          },
          "execution_count": 55,
          "metadata": {},
          "output_type": "execute_result"
        }
      ],
      "source": [
        "a=np.arange(1,17).reshape(4,4)\n",
        "a"
      ]
    },
    {
      "cell_type": "code",
      "execution_count": null,
      "id": "beeace23",
      "metadata": {
        "id": "beeace23",
        "outputId": "1b2e9dea-3684-4b42-ee45-a4813f1d560b"
      },
      "outputs": [
        {
          "data": {
            "text/plain": [
              "array([[ 6,  7],\n",
              "       [10, 11]])"
            ]
          },
          "execution_count": 56,
          "metadata": {},
          "output_type": "execute_result"
        }
      ],
      "source": [
        "a[1:3,1:3]"
      ]
    },
    {
      "cell_type": "code",
      "execution_count": null,
      "id": "ddbe53c7",
      "metadata": {
        "id": "ddbe53c7",
        "outputId": "15198f63-f9ed-456d-dd0a-a1171b92e369"
      },
      "outputs": [
        {
          "data": {
            "text/plain": [
              "array([[ 5,  6,  7,  8],\n",
              "       [ 9, 10, 11, 12]])"
            ]
          },
          "execution_count": 57,
          "metadata": {},
          "output_type": "execute_result"
        }
      ],
      "source": [
        "a[1:3,:]"
      ]
    },
    {
      "cell_type": "code",
      "execution_count": null,
      "id": "9033abb5",
      "metadata": {
        "id": "9033abb5",
        "outputId": "68812486-636c-4ddf-bcee-b083771f6b68"
      },
      "outputs": [
        {
          "data": {
            "text/plain": [
              "array([[ 2,  3],\n",
              "       [ 6,  7],\n",
              "       [10, 11],\n",
              "       [14, 15]])"
            ]
          },
          "execution_count": 58,
          "metadata": {},
          "output_type": "execute_result"
        }
      ],
      "source": [
        "a[:,1:3]"
      ]
    },
    {
      "cell_type": "code",
      "execution_count": null,
      "id": "9e0ae1b7",
      "metadata": {
        "id": "9e0ae1b7",
        "outputId": "3af2051b-2a77-4d2d-944c-b93f03e673ff"
      },
      "outputs": [
        {
          "data": {
            "text/plain": [
              "array([ 0,  1,  2,  3,  4,  5,  6,  7,  8,  9, 10])"
            ]
          },
          "execution_count": 59,
          "metadata": {},
          "output_type": "execute_result"
        }
      ],
      "source": [
        "a=np.arange(0,11)\n",
        "a"
      ]
    },
    {
      "cell_type": "code",
      "execution_count": null,
      "id": "16601793",
      "metadata": {
        "id": "16601793",
        "outputId": "9f81bd5c-634f-467e-ddf6-86c31065f98a"
      },
      "outputs": [
        {
          "data": {
            "text/plain": [
              "array([10, 11, 12, 13, 14, 15, 16, 17, 18, 19, 20])"
            ]
          },
          "execution_count": 60,
          "metadata": {},
          "output_type": "execute_result"
        }
      ],
      "source": [
        "a=a+10\n",
        "a"
      ]
    },
    {
      "cell_type": "code",
      "execution_count": null,
      "id": "86510fa8",
      "metadata": {
        "id": "86510fa8",
        "outputId": "6fad4c05-f3b8-48a9-ad80-3c6d0cda785b"
      },
      "outputs": [
        {
          "data": {
            "text/plain": [
              "array([ 5. ,  5.5,  6. ,  6.5,  7. ,  7.5,  8. ,  8.5,  9. ,  9.5, 10. ])"
            ]
          },
          "execution_count": 61,
          "metadata": {},
          "output_type": "execute_result"
        }
      ],
      "source": [
        "a/2"
      ]
    },
    {
      "cell_type": "code",
      "execution_count": null,
      "id": "ef1c0b7d",
      "metadata": {
        "id": "ef1c0b7d",
        "outputId": "1ae20350-893a-4416-ab59-d1eac33c9bd0"
      },
      "outputs": [
        {
          "data": {
            "text/plain": [
              "False"
            ]
          },
          "execution_count": 62,
          "metadata": {},
          "output_type": "execute_result"
        }
      ],
      "source": [
        "10>14"
      ]
    },
    {
      "cell_type": "code",
      "execution_count": null,
      "id": "258a7a01",
      "metadata": {
        "id": "258a7a01",
        "outputId": "71caa291-dd8b-428b-dbdb-473cd29c072c"
      },
      "outputs": [
        {
          "data": {
            "text/plain": [
              "array([10, 11, 12, 13, 14, 15, 16, 17, 18, 19, 20])"
            ]
          },
          "execution_count": 63,
          "metadata": {},
          "output_type": "execute_result"
        }
      ],
      "source": [
        "a"
      ]
    },
    {
      "cell_type": "code",
      "execution_count": null,
      "id": "ec5a17bb",
      "metadata": {
        "id": "ec5a17bb",
        "outputId": "ce28389d-d9ff-493d-def1-a8937ddcbf7c"
      },
      "outputs": [
        {
          "data": {
            "text/plain": [
              "array([16, 17, 18, 19, 20])"
            ]
          },
          "execution_count": 65,
          "metadata": {},
          "output_type": "execute_result"
        }
      ],
      "source": [
        "cond=a>15\n",
        "a[cond]"
      ]
    },
    {
      "cell_type": "code",
      "execution_count": null,
      "id": "d176844e",
      "metadata": {
        "id": "d176844e",
        "outputId": "c3f1a2d0-6983-471d-e436-c6161f275bc8"
      },
      "outputs": [
        {
          "data": {
            "text/plain": [
              "array([10, 11, 12, 13, 14, 15, 16, 17, 18, 19, 20])"
            ]
          },
          "execution_count": 66,
          "metadata": {},
          "output_type": "execute_result"
        }
      ],
      "source": [
        "a"
      ]
    },
    {
      "cell_type": "code",
      "execution_count": null,
      "id": "a856576a",
      "metadata": {
        "id": "a856576a",
        "outputId": "eb62dc4b-7224-4e04-8263-6373dd0f60f7"
      },
      "outputs": [
        {
          "data": {
            "text/plain": [
              "array([False, False, False, False, False, False,  True,  True,  True,\n",
              "        True,  True])"
            ]
          },
          "execution_count": 67,
          "metadata": {},
          "output_type": "execute_result"
        }
      ],
      "source": [
        "a>15"
      ]
    },
    {
      "cell_type": "code",
      "source": [
        "import numpy as np"
      ],
      "metadata": {
        "id": "xylQQ8tfPFW9"
      },
      "id": "xylQQ8tfPFW9",
      "execution_count": 1,
      "outputs": []
    },
    {
      "cell_type": "code",
      "execution_count": 2,
      "id": "8a58bf69",
      "metadata": {
        "colab": {
          "base_uri": "https://localhost:8080/"
        },
        "id": "8a58bf69",
        "outputId": "c84097b0-d60f-4899-db86-82783bac8e11"
      },
      "outputs": [
        {
          "output_type": "execute_result",
          "data": {
            "text/plain": [
              "array(['Harry', 'Tom', 'Bob', 'Harry', 'Harry'], dtype='<U5')"
            ]
          },
          "metadata": {},
          "execution_count": 2
        }
      ],
      "source": [
        "names=np.array([\"Harry\",\"Tom\",\"Bob\",\"Harry\",\"Harry\"])\n",
        "names"
      ]
    },
    {
      "cell_type": "code",
      "execution_count": null,
      "id": "6f538698",
      "metadata": {
        "id": "6f538698",
        "outputId": "9dd7ba13-6c66-426c-8e1b-f7f5612319ea"
      },
      "outputs": [
        {
          "data": {
            "text/plain": [
              "array(['Harry', 'Harry', 'Harry'], dtype='<U5')"
            ]
          },
          "execution_count": 70,
          "metadata": {},
          "output_type": "execute_result"
        }
      ],
      "source": [
        "c=names==\"Harry\"\n",
        "names[c]"
      ]
    },
    {
      "cell_type": "code",
      "execution_count": null,
      "id": "54b6b25d",
      "metadata": {
        "id": "54b6b25d",
        "outputId": "6925221e-c19d-4287-8c91-ca87fc2d405a"
      },
      "outputs": [
        {
          "data": {
            "text/plain": [
              "array(['Tom', 'Bob'], dtype='<U5')"
            ]
          },
          "execution_count": 71,
          "metadata": {},
          "output_type": "execute_result"
        }
      ],
      "source": [
        "c=names!='Harry'\n",
        "names[c]"
      ]
    },
    {
      "cell_type": "code",
      "execution_count": 22,
      "id": "5838c9e4",
      "metadata": {
        "colab": {
          "base_uri": "https://localhost:8080/"
        },
        "id": "5838c9e4",
        "outputId": "36181e27-b81d-426d-b7bc-99cb2f1220ce"
      },
      "outputs": [
        {
          "output_type": "execute_result",
          "data": {
            "text/plain": [
              "array(['Harry', 'Tom', 'Bob', 'Harry', 'Harry', 'Jerry', 'John',\n",
              "       'Abhishek', 'RohAN', 'Amit', 'Satvika Madam'], dtype='<U13')"
            ]
          },
          "metadata": {},
          "execution_count": 22
        }
      ],
      "source": [
        "names=np.array([\"Harry\",\"Tom\",\"Bob\",\"Harry\",\"Harry\",\"Jerry\",\"John\",\"Abhishek\",\"RohAN\",\"Amit\",\"Satvika Madam\"])\n",
        "names"
      ]
    },
    {
      "cell_type": "code",
      "execution_count": 23,
      "id": "5727c657",
      "metadata": {
        "colab": {
          "base_uri": "https://localhost:8080/"
        },
        "id": "5727c657",
        "outputId": "4a47d2b8-725f-4106-fb78-95fb10174620"
      },
      "outputs": [
        {
          "output_type": "execute_result",
          "data": {
            "text/plain": [
              "array(['Tom', 'Jerry'], dtype='<U13')"
            ]
          },
          "metadata": {},
          "execution_count": 23
        }
      ],
      "source": [
        "cond1=names=='Tom'\n",
        "cond2=names=='Jerry'\n",
        "names[cond1|cond2]"
      ]
    },
    {
      "cell_type": "code",
      "execution_count": 24,
      "id": "f4aa4159",
      "metadata": {
        "colab": {
          "base_uri": "https://localhost:8080/"
        },
        "id": "f4aa4159",
        "outputId": "83b3e3f4-cbbc-4d55-cb01-678efaf9a54d"
      },
      "outputs": [
        {
          "output_type": "execute_result",
          "data": {
            "text/plain": [
              "array(['Tom', 'Jerry'], dtype='<U13')"
            ]
          },
          "metadata": {},
          "execution_count": 24
        }
      ],
      "source": [
        "names[(names=='Tom')|(names=='Jerry')]"
      ]
    },
    {
      "cell_type": "code",
      "execution_count": 25,
      "id": "c0f66d43",
      "metadata": {
        "id": "c0f66d43"
      },
      "outputs": [],
      "source": [
        "names[(names=='Tom')|(names=='Jerry')]='Rahul'"
      ]
    },
    {
      "cell_type": "code",
      "execution_count": 26,
      "id": "8e1731eb",
      "metadata": {
        "colab": {
          "base_uri": "https://localhost:8080/"
        },
        "id": "8e1731eb",
        "outputId": "5a4acf7a-03db-499b-b772-19d5e3a178fd"
      },
      "outputs": [
        {
          "output_type": "execute_result",
          "data": {
            "text/plain": [
              "array(['Harry', 'Rahul', 'Bob', 'Harry', 'Harry', 'Rahul', 'John',\n",
              "       'Abhishek', 'RohAN', 'Amit', 'Satvika Madam'], dtype='<U13')"
            ]
          },
          "metadata": {},
          "execution_count": 26
        }
      ],
      "source": [
        "names"
      ]
    },
    {
      "cell_type": "code",
      "execution_count": null,
      "id": "e5d3a9cc",
      "metadata": {
        "id": "e5d3a9cc",
        "outputId": "7f3d2894-1e06-45f3-e767-8cc85eec060b"
      },
      "outputs": [
        {
          "name": "stdout",
          "output_type": "stream",
          "text": [
            "3.5\n",
            "1.707825127659933\n",
            "2.9166666666666665\n",
            "21\n",
            "720\n"
          ]
        }
      ],
      "source": [
        "a=np.array([[1,2,3],[4,5,6]])\n",
        "print(np.mean(a))\n",
        "print(np.std(a))\n",
        "print(np.var(a))\n",
        "print(np.sum(a))\n",
        "print(np.prod(a))"
      ]
    },
    {
      "cell_type": "code",
      "execution_count": null,
      "id": "ae118086",
      "metadata": {
        "id": "ae118086",
        "outputId": "7d081793-8585-4077-cd12-a3dbb8e00d20"
      },
      "outputs": [
        {
          "name": "stdout",
          "output_type": "stream",
          "text": [
            "9\n",
            "Max elements row-wise :  [3 6 9]\n",
            "45\n",
            "[ 1  3  6 10 15 21 28 36 45]\n"
          ]
        }
      ],
      "source": [
        "arr=np.array([[1,2,3],[4,5,6],[7,8,9]])\n",
        "print(arr.max())\n",
        "print(\"Max elements row-wise : \",arr.max(axis=1))\n",
        "print(arr.sum())\n",
        "print(arr.cumsum())"
      ]
    },
    {
      "cell_type": "code",
      "execution_count": null,
      "id": "cec36704",
      "metadata": {
        "id": "cec36704",
        "outputId": "3cd785c9-1af0-403b-fb8c-1c397b80a72b"
      },
      "outputs": [
        {
          "name": "stdout",
          "output_type": "stream",
          "text": [
            "[[2 4]\n",
            " [6 8]]\n",
            "[[ 7 10]\n",
            " [15 22]]\n",
            "[[ 1  4]\n",
            " [ 9 16]]\n"
          ]
        }
      ],
      "source": [
        "a=np.array([[1,2],[3,4]])\n",
        "b=np.array([[1,2],[3,4]])\n",
        "print(a+b)\n",
        "print(a.dot(b))\n",
        "print(a*b)"
      ]
    },
    {
      "cell_type": "code",
      "source": [],
      "metadata": {
        "id": "VNNuxB1aQ0gz"
      },
      "id": "VNNuxB1aQ0gz",
      "execution_count": null,
      "outputs": []
    }
  ],
  "metadata": {
    "kernelspec": {
      "display_name": "Python 3 (ipykernel)",
      "language": "python",
      "name": "python3"
    },
    "language_info": {
      "codemirror_mode": {
        "name": "ipython",
        "version": 3
      },
      "file_extension": ".py",
      "mimetype": "text/x-python",
      "name": "python",
      "nbconvert_exporter": "python",
      "pygments_lexer": "ipython3",
      "version": "3.9.7"
    },
    "colab": {
      "provenance": [],
      "collapsed_sections": []
    }
  },
  "nbformat": 4,
  "nbformat_minor": 5
}